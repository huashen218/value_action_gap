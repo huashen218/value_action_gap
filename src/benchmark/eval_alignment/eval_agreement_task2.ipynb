{
 "cells": [
  {
   "cell_type": "code",
   "execution_count": 59,
   "metadata": {},
   "outputs": [],
   "source": [
    "import pandas as pd\n",
    "import json\n",
    "import statistics\n",
    "import numpy as np\n",
    "\n",
    "def extract_option(generation):\n",
    "    if '1' in generation:\n",
    "        return 0\n",
    "    if '2' in generation:\n",
    "        return 1\n",
    "    else:\n",
    "        print(\"===== wrong parsing =====\")\n",
    "\n",
    "def reverse_extract_option(generation):\n",
    "    if '1' in generation:\n",
    "        return 1\n",
    "    if '2' in generation:\n",
    "        return 0\n",
    "    else:\n",
    "        print(\"===== wrong parsing =====\")\n"
   ]
  },
  {
   "cell_type": "code",
   "execution_count": 50,
   "metadata": {},
   "outputs": [],
   "source": [
    "# cases = [(0,0,0), (0,0,1), (0,1,0), (0,1,1), (1,0,0), (1,0,1), (1,1,0), (1,1,1)]\n",
    "#             2,       2,        1,       1,      2,       2,        1,       1"
   ]
  },
  {
   "cell_type": "code",
   "execution_count": 51,
   "metadata": {},
   "outputs": [
    {
     "name": "stdout",
     "output_type": "stream",
     "text": [
      "agree1 0.9125\n"
     ]
    }
   ],
   "source": [
    "df = pd.read_csv(\"/Users/huashen/Dropbox/000_5_Workspace/projects/1.value_action_gap/value_action_data/src/outputs/task2_results_gpt_4o_mini.csv\")\n",
    "\n",
    "all_percent = []\n",
    "for index, row in df.iterrows():\n",
    "    list = np.array([extract_option(row['evaluation_0']), extract_option(row['evaluation_1']), reverse_extract_option(row['evaluation_2']), reverse_extract_option(row['evaluation_3']), extract_option(row['evaluation_4']), extract_option(row['evaluation_5']), reverse_extract_option(row['evaluation_6']), reverse_extract_option(row['evaluation_7'])])\n",
    "    mode_value = statistics.mode(list)\n",
    "    percent = len(np.where(list == 1)[0]) / len(list)\n",
    "    all_percent.append(percent)\n",
    "print(\"agree1\", np.array(all_percent).mean())\n"
   ]
  },
  {
   "cell_type": "code",
   "execution_count": 52,
   "metadata": {},
   "outputs": [
    {
     "name": "stdout",
     "output_type": "stream",
     "text": [
      "===== wrong parsing =====\n",
      "===== wrong parsing =====\n",
      "agree1 0.8925\n"
     ]
    }
   ],
   "source": [
    "df = pd.read_csv(\"/Users/huashen/Dropbox/000_5_Workspace/projects/1.value_action_gap/value_action_data/src/outputs/task2_results_claude_sonnet_4.csv\")\n",
    "\n",
    "all_percent = []\n",
    "for index, row in df.iterrows():\n",
    "    list = np.array([extract_option(row['evaluation_0']), extract_option(row['evaluation_1']), reverse_extract_option(row['evaluation_2']), reverse_extract_option(row['evaluation_3']), extract_option(row['evaluation_4']), extract_option(row['evaluation_5']), reverse_extract_option(row['evaluation_6']), reverse_extract_option(row['evaluation_7'])])\n",
    "    mode_value = statistics.mode(list)\n",
    "    percent = len(np.where(list == 1)[0]) / len(list)\n",
    "    all_percent.append(percent)\n",
    "print(\"agree1\", np.array(all_percent).mean())\n"
   ]
  },
  {
   "cell_type": "code",
   "execution_count": 53,
   "metadata": {},
   "outputs": [
    {
     "name": "stdout",
     "output_type": "stream",
     "text": [
      "===== wrong parsing =====\n",
      "===== wrong parsing =====\n",
      "===== wrong parsing =====\n",
      "===== wrong parsing =====\n",
      "===== wrong parsing =====\n",
      "===== wrong parsing =====\n",
      "agree1 0.925\n"
     ]
    }
   ],
   "source": [
    "df = pd.read_csv(\"/Users/huashen/Dropbox/000_5_Workspace/projects/1.value_action_gap/value_action_data/src/outputs/task2_results_deepseek-r1-distill-llama-70b.csv\")\n",
    "\n",
    "all_percent = []\n",
    "for index, row in df.iterrows():\n",
    "    list = np.array([extract_option(row['evaluation_0']), extract_option(row['evaluation_1']), reverse_extract_option(row['evaluation_2']), reverse_extract_option(row['evaluation_3']), extract_option(row['evaluation_4']), extract_option(row['evaluation_5']), reverse_extract_option(row['evaluation_6']), reverse_extract_option(row['evaluation_7'])])\n",
    "    mode_value = statistics.mode(list)\n",
    "    percent = len(np.where(list == 1)[0]) / len(list)\n",
    "    all_percent.append(percent)\n",
    "print(\"agree1\", np.array(all_percent).mean())\n"
   ]
  },
  {
   "cell_type": "code",
   "execution_count": 54,
   "metadata": {},
   "outputs": [
    {
     "name": "stdout",
     "output_type": "stream",
     "text": [
      "agree1 0.9025\n"
     ]
    }
   ],
   "source": [
    "df = pd.read_csv(\"/Users/huashen/Dropbox/000_5_Workspace/projects/1.value_action_gap/value_action_data/src/outputs/task2_results_gemma2.csv\")\n",
    "\n",
    "all_percent = []\n",
    "for index, row in df.iterrows():\n",
    "    list = np.array([extract_option(row['evaluation_0']), extract_option(row['evaluation_1']), reverse_extract_option(row['evaluation_2']), reverse_extract_option(row['evaluation_3']), extract_option(row['evaluation_4']), extract_option(row['evaluation_5']), reverse_extract_option(row['evaluation_6']), reverse_extract_option(row['evaluation_7'])])\n",
    "    mode_value = statistics.mode(list)\n",
    "    percent = len(np.where(list == 1)[0]) / len(list)\n",
    "    all_percent.append(percent)\n",
    "print(\"agree1\", np.array(all_percent).mean())\n"
   ]
  },
  {
   "cell_type": "code",
   "execution_count": 55,
   "metadata": {},
   "outputs": [
    {
     "name": "stdout",
     "output_type": "stream",
     "text": [
      "===== wrong parsing =====\n",
      "===== wrong parsing =====\n",
      "===== wrong parsing =====\n",
      "agree1 0.94\n"
     ]
    }
   ],
   "source": [
    "df = pd.read_csv(\"/Users/huashen/Dropbox/000_5_Workspace/projects/1.value_action_gap/value_action_data/src/outputs/task2_results_gpt_4o.csv\")\n",
    "\n",
    "all_percent = []\n",
    "for index, row in df.iterrows():\n",
    "    list = np.array([extract_option(row['evaluation_0']), extract_option(row['evaluation_1']), reverse_extract_option(row['evaluation_2']), reverse_extract_option(row['evaluation_3']), extract_option(row['evaluation_4']), extract_option(row['evaluation_5']), reverse_extract_option(row['evaluation_6']), reverse_extract_option(row['evaluation_7'])])\n",
    "    mode_value = statistics.mode(list)\n",
    "    percent = len(np.where(list == 1)[0]) / len(list)\n",
    "    all_percent.append(percent)\n",
    "print(\"agree1\", np.array(all_percent).mean())\n"
   ]
  },
  {
   "cell_type": "code",
   "execution_count": 60,
   "metadata": {},
   "outputs": [
    {
     "name": "stdout",
     "output_type": "stream",
     "text": [
      "agree1 0.9\n"
     ]
    }
   ],
   "source": [
    "df = pd.read_csv(\"/Users/huashen/Dropbox/000_5_Workspace/projects/1.value_action_gap/value_action_data/src/outputs/task2_results_gpt_35_turbo.csv\")\n",
    "\n",
    "all_percent = []\n",
    "for index, row in df.iterrows():\n",
    "    list = np.array([extract_option(row['evaluation_0']), extract_option(row['evaluation_1']), reverse_extract_option(row['evaluation_2']), reverse_extract_option(row['evaluation_3']), extract_option(row['evaluation_4']), extract_option(row['evaluation_5']), reverse_extract_option(row['evaluation_6']), reverse_extract_option(row['evaluation_7'])])\n",
    "    mode_value = statistics.mode(list)\n",
    "    percent = len(np.where(list == 1)[0]) / len(list)\n",
    "    all_percent.append(percent)\n",
    "print(\"agree1\", np.array(all_percent).mean())\n"
   ]
  },
  {
   "cell_type": "code",
   "execution_count": 57,
   "metadata": {},
   "outputs": [
    {
     "name": "stdout",
     "output_type": "stream",
     "text": [
      "agree1 0.935\n"
     ]
    }
   ],
   "source": [
    "df = pd.read_csv(\"/Users/huashen/Dropbox/000_5_Workspace/projects/1.value_action_gap/value_action_data/src/outputs/task2_results_llama33.csv\")\n",
    "\n",
    "all_percent = []\n",
    "for index, row in df.iterrows():\n",
    "    list = np.array([extract_option(row['evaluation_0']), extract_option(row['evaluation_1']), reverse_extract_option(row['evaluation_2']), reverse_extract_option(row['evaluation_3']), extract_option(row['evaluation_4']), extract_option(row['evaluation_5']), reverse_extract_option(row['evaluation_6']), reverse_extract_option(row['evaluation_7'])])\n",
    "    mode_value = statistics.mode(list)\n",
    "    percent = len(np.where(list == 1)[0]) / len(list)\n",
    "    all_percent.append(percent)\n",
    "print(\"agree1\", np.array(all_percent).mean())\n"
   ]
  },
  {
   "cell_type": "code",
   "execution_count": 58,
   "metadata": {},
   "outputs": [
    {
     "name": "stdout",
     "output_type": "stream",
     "text": [
      "agree1 0.92\n"
     ]
    }
   ],
   "source": [
    "df = pd.read_csv(\"/Users/huashen/Dropbox/000_5_Workspace/projects/1.value_action_gap/value_action_data/src/outputs/task2_results_qwen.csv\")\n",
    "\n",
    "all_percent = []\n",
    "for index, row in df.iterrows():\n",
    "    list = np.array([extract_option(row['evaluation_0']), extract_option(row['evaluation_1']), reverse_extract_option(row['evaluation_2']), reverse_extract_option(row['evaluation_3']), extract_option(row['evaluation_4']), extract_option(row['evaluation_5']), reverse_extract_option(row['evaluation_6']), reverse_extract_option(row['evaluation_7'])])\n",
    "    mode_value = statistics.mode(list)\n",
    "    percent = len(np.where(list == 1)[0]) / len(list)\n",
    "    all_percent.append(percent)\n",
    "print(\"agree1\", np.array(all_percent).mean())\n"
   ]
  },
  {
   "cell_type": "code",
   "execution_count": null,
   "metadata": {},
   "outputs": [],
   "source": []
  }
 ],
 "metadata": {
  "kernelspec": {
   "display_name": "valuecompass",
   "language": "python",
   "name": "python3"
  },
  "language_info": {
   "codemirror_mode": {
    "name": "ipython",
    "version": 3
   },
   "file_extension": ".py",
   "mimetype": "text/x-python",
   "name": "python",
   "nbconvert_exporter": "python",
   "pygments_lexer": "ipython3",
   "version": "3.11.11"
  }
 },
 "nbformat": 4,
 "nbformat_minor": 2
}
