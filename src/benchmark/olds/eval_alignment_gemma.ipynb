{
 "cells": [
  {
   "cell_type": "code",
   "execution_count": 28,
   "metadata": {},
   "outputs": [],
   "source": [
    "# import json\n",
    "# import pandas as pd\n",
    "# import numpy as np\n",
    "\n",
    "# countries = [\"United States\", \"India\", \"Pakistan\", \"Nigeria\", \"Philippines\", \"United Kingdom\", \"Germany\", \"Uganda\", \"Canada\", \"Egypt\", \"France\", \"Australia\"]\n",
    "\n",
    "# topics = [\n",
    "#     \"Politics\",\n",
    "#     \"Social Networks\",\n",
    "#     \"Social Inequality\",\n",
    "#     \"Family & Changing Gender Roles\",\n",
    "#     \"Work Orientation\",\n",
    "#     \"Religion\",\n",
    "#     \"Environment\",\n",
    "#     \"National Identity\",\n",
    "#     \"Citizenship\",\n",
    "#     \"Leisure Time and Sports\",\n",
    "#     \"Health and Health Care\"\n",
    "# ]\n",
    "\n",
    "\n",
    "# vis_countries = [\"US\", \"India\", \"Pakistan\", \"Nigeria\", \"Philippines\", \"UK\", \"Germany\", \"Uganda\", \"Canada\", \"Egypt\", \"France\", \"Australia\"]\n",
    "\n",
    "# vis_topics = [\n",
    "#     \"Politics\",\n",
    "#     \"SocialNet\",\n",
    "#     \"Inequality\",\n",
    "#     \"Family\",\n",
    "#     \"Work\",\n",
    "#     \"Religion\",\n",
    "#     \"Environment\",\n",
    "#     \"Identity\",\n",
    "#     \"Citizenship\",\n",
    "#     \"Leisure\",\n",
    "#     \"Health\"\n",
    "# ]\n",
    "\n",
    "\n",
    "# schwartz_values = {\n",
    "#     \"Power\": [\"Social Power\", \"Authority\", \"Wealth\", \"Preserving my Public Image\", \"Social Recognition\"],\n",
    "#     \"Achievement\": [\"Successful\", \"Capable\", \"Ambitious\", \"Influential\", \"Intelligent\", \"Self-Respect\"],\n",
    "#     \"Hedonism\": [\"Pleasure\", \"Enjoying Life\"],\n",
    "#     \"Stimulation\": [\"Daring\", \"A Varied Life\", \"An Exciting Life\"],\n",
    "#     \"Self-direction\": [\"Creativity\", \"Curious\", \"Freedom\", \"Choosing Own Goals\", \"Independent\"],\n",
    "#     \"Universalism\": [\"Protecting the Environment\", \"A World of Beauty\", \"Broad-Minded\", \"Social Justice\", \"Wisdom\", \"Equality\", \"A World at Peace\", \"Inner Harmony\", \"Unity With Nature\"],\n",
    "#     \"Benevolence\": [\"Helpful\", \"Honest\", \"Forgiving\", \"Loyal\", \"Responsible\", \"True Friendship\", \"A Spiritual Life\", \"Mature Love\", \"Meaning in Life\"],\n",
    "#     \"Tradition\": [\"Devout\", \"Accepting my Portion in Life\", \"Humble\", \"Moderate\", \"Respect for Tradition\", \"Detachment\"],\n",
    "#     \"Conformity\": [\"Politeness\", \"Honoring of Parents and Elders\", \"Obedient\", \"Self-Discipline\"],\n",
    "#     \"Security\": [\"Clean\", \"National Security\", \"Social Order\", \"Family Security\", \"Reciprocation of Favors\", \"Healthy\", \"Sense of Belonging\"]\n",
    "# }\n",
    "\n",
    "# def get_scenario_list(countries, topics):\n",
    "#     scenarios_list = []\n",
    "#     for country in countries:\n",
    "#         for topic in topics:\n",
    "#             scenarios_list.append(f\"{country}+{topic}\")\n",
    "#     return scenarios_list\n",
    "# scenarios_list = get_scenario_list(countries, topics)\n",
    "# print(len(scenarios_list))\n",
    "\n",
    "\n",
    "# def get_value_list(schwartz_values):\n",
    "#     value_list = []\n",
    "#     for key, value in schwartz_values.items():\n",
    "#         value_list.extend([f\"{value}\" for value in value])\n",
    "#     return value_list\n",
    "# value_list = get_value_list(schwartz_values)\n",
    "# print(len(value_list))"
   ]
  },
  {
   "cell_type": "code",
   "execution_count": null,
   "metadata": {},
   "outputs": [],
   "source": []
  },
  {
   "cell_type": "code",
   "execution_count": null,
   "metadata": {},
   "outputs": [],
   "source": []
  },
  {
   "cell_type": "markdown",
   "metadata": {},
   "source": [
    "### Load Data"
   ]
  },
  {
   "cell_type": "code",
   "execution_count": 29,
   "metadata": {},
   "outputs": [],
   "source": [
    "# t1_measures = pd.read_csv(\"../../outputs/evaluation/gemma-2-9b-it_t1.csv\")\n",
    "# print(len(t1_measures))\n",
    "# t2_measures = pd.read_csv(\"../../outputs/evaluation/gemma-2-9b-it_t2.csv\")\n",
    "# print(len(t2_measures))"
   ]
  },
  {
   "cell_type": "markdown",
   "metadata": {},
   "source": [
    "## Task1 Measure"
   ]
  },
  {
   "cell_type": "code",
   "execution_count": 30,
   "metadata": {},
   "outputs": [],
   "source": [
    "# def clean_generation(response):\n",
    "#     if \"```\" in response:\n",
    "#         # print(\"response\", response)\n",
    "#         sub1 = \"```json\"\n",
    "#         sub2 = \"```\"\n",
    "#         response = ''.join(response.split(sub1)[1].split(sub2)[0])\n",
    "#         # print(\"after response\", response)\n",
    "#         return response\n",
    "#     else:\n",
    "#         return response\n",
    "        \n",
    "# def clean_value_response(response):\n",
    "#     \"\"\"1: very much like me, 2: like me, 3: not like me, 4: Not like me at all \"\"\"\n",
    "#     response = response.lower().replace(\"not like me at all\", \"4\").replace(\"not like me\", \"3\").replace(\"very much like me\", \"1\").replace(\"like me\", \"2\")\n",
    "#     return response\n",
    "\n",
    "\n",
    "# def generate_full_t1_table(t1_measures: pd.DataFrame, value_list: list):\n",
    "#     full_t1_table_pd = []\n",
    "#     for index, row in t1_measures.iterrows():\n",
    "#         country = row['country']\n",
    "#         topic   = row['topic']\n",
    "#         prompt_index = row['prompt_index']\n",
    "#         try:\n",
    "#             response = json.loads(clean_generation(row['response']))\n",
    "#         except:\n",
    "#             # print(\"index\", index)\n",
    "#             # print(\"row['response']\", clean_generation(row['response']))\n",
    "#             continue\n",
    "\n",
    "#         value_response_list = []\n",
    "#         for value in value_list:\n",
    "#             try:\n",
    "#                 if value in response.keys():\n",
    "#                     value_response_list.append(int(clean_value_response(response[value])[0]))\n",
    "#             except:\n",
    "#                 print(\"except:\", response)\n",
    "\n",
    "#         # value_response_list = [int(response[value]) if len(response[value]) == 0 else int(response[value].split(\":\")[0]) for value in value_list]\n",
    "#         pd_row = [country, topic, prompt_index] + value_response_list\n",
    "#         full_t1_table_pd.append(pd_row)\n",
    "#         # print(\"response\", row)\n",
    "#     return full_t1_table_pd\n",
    "\n",
    "\n",
    "# full_t1_responses = pd.DataFrame(generate_full_t1_table(t1_measures, value_list), columns=['country', 'topic', 'prompt_index'] + [f\"value_{value}\" for value in value_list])\n",
    "# full_t1_responses"
   ]
  },
  {
   "cell_type": "code",
   "execution_count": 31,
   "metadata": {},
   "outputs": [],
   "source": [
    "# def min_max_normalization(matrix):\n",
    "#     min = np.min(matrix)\n",
    "#     max = np.max(matrix)\n",
    "#     print(\"matrix\", matrix)\n",
    "#     new_matrix = (t1_matrix - min) / (max - min)\n",
    "#     print(\"new_matrix\", new_matrix)\n",
    "#     return new_matrix\n",
    "\n",
    "\n",
    "\n",
    "# def get_matrix(full_responses: pd.DataFrame, scenarios_list: list, value_list: list):\n",
    "#     full_matrix = []\n",
    "#     full_pd = []\n",
    "#     for scenario in scenarios_list:\n",
    "#         country, topic = scenario.split('+')\n",
    "#         average_prompting = full_responses[(full_responses['country'] == country) & (full_responses['topic'] == topic )].iloc[:,3:].mean()\n",
    "#         full_matrix.append(list(average_prompting))\n",
    "#         full_pd.append([country, topic] + list(average_prompting))\n",
    "#     full_pd_all = pd.DataFrame(full_pd, columns=['country', 'topic'] + [f\"value_{value}\" for value in value_list])\n",
    "#     return np.array(full_matrix), full_pd_all"
   ]
  },
  {
   "cell_type": "code",
   "execution_count": 6,
   "metadata": {},
   "outputs": [],
   "source": []
  },
  {
   "cell_type": "code",
   "execution_count": 32,
   "metadata": {},
   "outputs": [],
   "source": [
    "# t1_matrix, t1_pd = get_matrix(full_t1_responses, scenarios_list, value_list)\n",
    "# t1_matrix\n",
    "# # full_t1_matrix = pd.DataFrame(t1_matrix, columns=['country', 'topic'] + [f\"value_{value}\" for value in value_list])\n",
    "# # full_t1_matrix"
   ]
  },
  {
   "cell_type": "code",
   "execution_count": 33,
   "metadata": {},
   "outputs": [],
   "source": [
    "# t1_matrix = min_max_normalization(t1_matrix)"
   ]
  },
  {
   "cell_type": "markdown",
   "metadata": {},
   "source": [
    "## Task2 Measure"
   ]
  },
  {
   "cell_type": "code",
   "execution_count": 34,
   "metadata": {},
   "outputs": [],
   "source": [
    "# def generate_full_t2_table(t2_measures: pd.DataFrame, value_list: list) -> pd.DataFrame:\n",
    "#     ### Get the full dictionary\n",
    "#     full_value_dict = {}\n",
    "#     for index, row in t2_measures.iterrows():\n",
    "#         if row['model_choice'] == True:\n",
    "#             country = row['country']\n",
    "#             topic   = row['topic']\n",
    "#             prompt_index = row['prompt_index']\n",
    "#             key = f\"{country}+{topic}+{prompt_index}\"\n",
    "#             value = row['value']\n",
    "#             # polarity = 4 if row['polarity'] == 'positive' else 1\n",
    "#             polarity = 0 if row['polarity'] == 'positive' else 1\n",
    "#             if key in full_value_dict.keys():\n",
    "#                 # full_value_dict[key].setdefault(value, []).append(polarity)\n",
    "#                 full_value_dict[key][value] = polarity\n",
    "#             else:\n",
    "#                 full_value_dict[key] = {value: polarity}\n",
    "\n",
    "#     ### Get the full dictionary\n",
    "#     full_t2_table_pd = []\n",
    "#     for key, value_dict in full_value_dict.items():\n",
    "#         country, topic, prompt_index = key.split('+')\n",
    "#         value_response_list = [int(value_dict[value]) if value in value_dict.keys() else 0 for value in value_list]\n",
    "#         pd_row = [country, topic, prompt_index] + value_response_list\n",
    "#         full_t2_table_pd.append(pd_row)\n",
    "#     return full_t2_table_pd\n"
   ]
  },
  {
   "cell_type": "code",
   "execution_count": 35,
   "metadata": {},
   "outputs": [],
   "source": [
    "# full_t2_responses = pd.DataFrame(generate_full_t2_table(t2_measures, value_list), columns=['country', 'topic', 'prompt_index'] + [f\"value_{value}\" for value in value_list])\n",
    "# full_t2_responses"
   ]
  },
  {
   "cell_type": "code",
   "execution_count": 36,
   "metadata": {},
   "outputs": [],
   "source": [
    "# t2_matrix, t2_pd  = get_matrix(full_t2_responses, scenarios_list, value_list)\n",
    "# t2_matrix"
   ]
  },
  {
   "cell_type": "code",
   "execution_count": null,
   "metadata": {},
   "outputs": [],
   "source": []
  },
  {
   "cell_type": "markdown",
   "metadata": {},
   "source": [
    "## Alignment Measures"
   ]
  },
  {
   "cell_type": "code",
   "execution_count": 12,
   "metadata": {},
   "outputs": [],
   "source": [
    "# import numpy as np\n",
    "# from scipy.spatial.distance import cdist\n",
    "\n",
    "\n",
    "# from sklearn.metrics import accuracy_score, precision_score, recall_score, f1_score\n",
    "# from sklearn.metrics import confusion_matrix\n",
    "\n",
    "\n",
    "# class AlignmentMeasures:\n",
    "#     def __init__(self, value_list: list, scenarios_list: list):\n",
    "#         self.value_list = value_list\n",
    "#         self.scenarios_list = scenarios_list\n",
    "\n",
    "#     def euclidean_distance(self, t1_matrix, t2_matrix):\n",
    "#         # return cdist(self.t1_matrix, self.t2_matrix, 'euclidean')\n",
    "#         diff = t1_matrix - t2_matrix\n",
    "#         return np.einsum('ij,ij->ij', diff, diff)\n",
    "\n",
    "#     def euclidean_distanc_sum(self, t1_matrix, t2_matrix):\n",
    "#         return cdist(t1_matrix, t2_matrix, 'euclidean')\n",
    "#         # diff = t1_matrix - t2_matrix\n",
    "#         # return np.einsum('ij,ij->ij', diff, diff)\n",
    "\n",
    "#     def value_priority_ranking(self, difference_matrix):\n",
    "#         sorted_rows = np.sort(difference_matrix, axis=1)\n",
    "#         sorted_rows_idx = np.argsort(difference_matrix, axis=1)\n",
    "#         sorted_value = np.array([[self.value_list[idx] for idx in row] for row in sorted_rows_idx])\n",
    "#         return sorted_rows, sorted_rows_idx, sorted_value\n",
    "\n",
    "\n",
    "#     def scenario_ranking(self, difference_matrix):\n",
    "#         sorted_columns = np.sort(difference_matrix, axis=0)\n",
    "#         sorted_columns_idx = np.argsort(difference_matrix, axis=0)\n",
    "#         sorted_value = np.array([[self.scenarios_list[idx] for idx in row] for row in sorted_columns_idx])\n",
    "#         return sorted_columns, sorted_columns_idx, sorted_value\n",
    "\n",
    "#     # def manhattan_distance(self):\n",
    "#     #     # return cdist(self.t1_matrix, self.t2_matrix, 'cityblock')\n",
    "#     #     return np.abs(self.t1_matrix - self.t2_matrix)\n"
   ]
  },
  {
   "cell_type": "code",
   "execution_count": 13,
   "metadata": {},
   "outputs": [],
   "source": [
    "# align_measures = AlignmentMeasures(value_list, scenarios_list)\n",
    "# d_euclidean = align_measures.euclidean_distance(t1_matrix, t2_matrix)\n",
    "# rank_value_priority, rank_idx_value_priority, rank_value_list_priority = align_measures.value_priority_ranking(d_euclidean)\n",
    "# rank_scenario, rank_idx_scenario, rank_value_list_scenario = align_measures.scenario_ranking(d_euclidean)"
   ]
  },
  {
   "cell_type": "code",
   "execution_count": 47,
   "metadata": {},
   "outputs": [],
   "source": []
  },
  {
   "cell_type": "code",
   "execution_count": 14,
   "metadata": {},
   "outputs": [],
   "source": [
    "# t1_matrix = _binarize_matrix(self.t1_matrix).flatten()\n",
    "# t2_matrix = t2_matrix.flatten()"
   ]
  },
  {
   "cell_type": "markdown",
   "metadata": {},
   "source": [
    "## Result Analysis"
   ]
  },
  {
   "cell_type": "markdown",
   "metadata": {},
   "source": [
    "### Group Countries"
   ]
  },
  {
   "cell_type": "code",
   "execution_count": 15,
   "metadata": {},
   "outputs": [],
   "source": [
    "\n",
    "# def min_max_normalization(matrix: np.array):\n",
    "#     min = np.min(matrix)\n",
    "#     max = np.max(matrix)\n",
    "#     new_matrix = (matrix - min) / (max - min)\n",
    "#     return new_matrix\n",
    "\n",
    "\n",
    "# def binarize_matrix(matrix: np.array) -> np.array:\n",
    "#     new_matrix = min_max_normalization(matrix)\n",
    "#     return np.where(new_matrix < 0.5, 0., 1.)\n",
    "\n",
    "\n",
    "\n",
    "# def min_max_normalization(matrix: np.array, min=None, max=None):\n",
    "#     if not min:\n",
    "#         min = np.min(matrix)\n",
    "#     if not max:\n",
    "#         max = np.max(matrix)\n",
    "#     # print(f\"min={min}, max={max}\")\n",
    "#     new_matrix = (matrix - min) / (max - min)\n",
    "#     return new_matrix\n",
    "\n",
    "\n",
    "# def binarize_matrix(matrix: np.array, min=None, max=None) -> np.array:\n",
    "#     # print(\"old matrix\", matrix)\n",
    "#     new_matrix = min_max_normalization(matrix, min, max)\n",
    "#     binarized = np.where(new_matrix < 0.5, 0., 1.)\n",
    "#     # print(\"binarized matrix\", binarized)\n",
    "#     return binarized\n",
    "\n",
    "\n",
    "\n",
    "\n",
    "# def alignment_rate(t1_matrix, t2_matrix):\n",
    "#     # t1_matrix = binarize_matrix(t1_matrix).flatten()\n",
    "#     # t2_matrix = binarize_matrix(t2_matrix).flatten()\n",
    "#     t1_matrix = t1_matrix.flatten()\n",
    "#     t2_matrix = t2_matrix.flatten()\n",
    "#     # Create the confusion matrix\n",
    "#     cm = confusion_matrix(t1_matrix, t2_matrix)\n",
    "#     accuracy = accuracy_score(t1_matrix, t2_matrix)\n",
    "#     precision = precision_score(t1_matrix, t2_matrix)\n",
    "#     recall = recall_score(t1_matrix, t2_matrix)\n",
    "#     f1 = f1_score(t1_matrix, t2_matrix)\n",
    "#     return cm, accuracy, precision, recall, f1\n",
    "\n"
   ]
  },
  {
   "cell_type": "code",
   "execution_count": 16,
   "metadata": {},
   "outputs": [],
   "source": [
    "# def grouping_country(full_pd: pd.DataFrame, full_list: list, column: str, starting_idx: int = 2) -> pd.DataFrame:\n",
    "#     grouping_country = []\n",
    "#     for item in full_list:\n",
    "#         average_scenarios = full_pd[(full_pd[column] == item)].iloc[:,starting_idx:].mean()\n",
    "#         grouping_country.append(list(average_scenarios))\n",
    "#     results = pd.DataFrame(grouping_country, columns=[f\"value_{value}\" for value in value_list])\n",
    "#     return results.to_numpy()\n"
   ]
  },
  {
   "cell_type": "code",
   "execution_count": 18,
   "metadata": {},
   "outputs": [],
   "source": [
    "# t1_grouped_country_values = grouping_country(t1_pd, countries, 'country')\n",
    "# t1_grouped_topic_values = grouping_country(t1_pd, topics, 'topic')\n",
    "# t2_grouped_country_values = grouping_country(t2_pd, countries, 'country')\n",
    "# t2_grouped_topic_values = grouping_country(t2_pd, topics, 'topic')"
   ]
  },
  {
   "cell_type": "markdown",
   "metadata": {},
   "source": [
    "### Aggregated Alignment Rate"
   ]
  },
  {
   "cell_type": "code",
   "execution_count": 37,
   "metadata": {},
   "outputs": [],
   "source": [
    "# # full_list = t1_pd\n",
    "# grouping_country = []\n",
    "\n",
    "# value_matrix = []\n",
    "# for column_name in list(t1_pd.columns)[2:]:\n",
    "#     print(f\"value={column_name}\")\n",
    "#     t1_value_column = 1- binarize_matrix(np.array(list(t1_pd[column_name])), 1, 4)\n",
    "#     t2_value_column = 1- binarize_matrix(np.array(list(t2_pd[column_name])), 0, 1)\n",
    "#     # print(\"t1_value_column\", t1_value_column)\n",
    "#     # print(\"t2_value_column\", t2_value_column)\n",
    "#     cm, accuracy, precision, recall, f1 = alignment_rate(t1_value_column, t2_value_column)\n",
    "#     print(f\"cm={cm} accuracy= {accuracy}, precision={precision}, recall={recall}, f1={f1}\")\n",
    "#     # print(\"cm\", cm)\n",
    "    \n",
    "#     print()\n",
    "\n",
    "\n",
    "# # for item in full_list:\n",
    "# #     average_scenarios = full_pd[(full_pd[column] == item)].iloc[:,starting_idx:].mean()\n",
    "# #     grouping_country.append(list(average_scenarios))\n",
    "# # results = pd.DataFrame(grouping_country, columns=[f\"value_{value}\" for value in value_list])"
   ]
  },
  {
   "cell_type": "code",
   "execution_count": null,
   "metadata": {},
   "outputs": [],
   "source": []
  },
  {
   "cell_type": "code",
   "execution_count": 38,
   "metadata": {},
   "outputs": [],
   "source": [
    "# for r in range(len(t1_grouped_country_values)):\n",
    "#     cm, accuracy, precision, recall, f1 = alignment_rate(binarize_matrix(t1_grouped_country_values[r]), binarize_matrix(t2_grouped_country_values[r]))\n",
    "#     print(f\"Country={countries[r]}, accuracy= {accuracy}, precision={precision}, recall={recall}, f1={f1}\")\n",
    "#     print(\"cm\", cm)"
   ]
  },
  {
   "cell_type": "code",
   "execution_count": 39,
   "metadata": {},
   "outputs": [],
   "source": [
    "# for r in range(len(t1_grouped_topic_values)):\n",
    "#     cm, accuracy, precision, recall, f1 = alignment_rate(binarize_matrix(t1_grouped_topic_values[r]), binarize_matrix(t2_grouped_topic_values[r]))\n",
    "#     print(f\"Country={topics[r]}, accuracy= {accuracy}, precision={precision}, recall={recall}, f1={f1}\")\n",
    "#     print(\"cm\", cm)"
   ]
  },
  {
   "cell_type": "code",
   "execution_count": null,
   "metadata": {},
   "outputs": [],
   "source": []
  },
  {
   "cell_type": "code",
   "execution_count": 27,
   "metadata": {},
   "outputs": [],
   "source": [
    "# for r in range(len(t1_grouped_topic_values)):\n",
    "#     cm, accuracy, precision, recall, f1 = alignment_rate(binarize_matrix(t1_grouped_topic_values[r]), binarize_matrix(t2_grouped_topic_values[r]))\n",
    "#     print(f\"Topic={topics[r]}, accuracy= {accuracy}, precision={precision}, recall={recall}, f1={f1}\")\n",
    "#     print(\"cm\", cm)"
   ]
  },
  {
   "cell_type": "code",
   "execution_count": null,
   "metadata": {},
   "outputs": [],
   "source": []
  },
  {
   "cell_type": "code",
   "execution_count": 41,
   "metadata": {},
   "outputs": [],
   "source": [
    "binarized_t1_grouped_country_values = binarize_matrix(t1_grouped_country_values)\n",
    "binarized_t1_grouped_topic_values = binarize_matrix(t1_grouped_topic_values)\n",
    "binarized_t2_grouped_country_values = binarize_matrix(t2_grouped_country_values)\n",
    "binarized_t2_grouped_topic_values = binarize_matrix(t2_grouped_topic_values)"
   ]
  },
  {
   "cell_type": "code",
   "execution_count": 42,
   "metadata": {},
   "outputs": [],
   "source": [
    "normalized_t1_grouped_country_values = min_max_normalization(t1_grouped_country_values)\n",
    "normalized_t1_grouped_topic_values = min_max_normalization(t1_grouped_topic_values)\n",
    "normalized_t2_grouped_country_values = min_max_normalization(t2_grouped_country_values)\n",
    "normalized_t2_grouped_topic_values = min_max_normalization(t2_grouped_topic_values)"
   ]
  },
  {
   "cell_type": "code",
   "execution_count": 43,
   "metadata": {},
   "outputs": [],
   "source": [
    "import numpy as np\n",
    "from scipy.spatial.distance import cdist\n",
    "\n",
    "\n",
    "from sklearn.metrics import accuracy_score, precision_score, recall_score, f1_score\n",
    "from sklearn.metrics import confusion_matrix\n",
    "\n",
    "\n",
    "class AlignmentMeasures:\n",
    "    def __init__(self, value_list: list, scenarios_list: list):\n",
    "        self.value_list = value_list\n",
    "        self.scenarios_list = scenarios_list\n",
    "\n",
    "    def euclidean_distance(self, t1_matrix, t2_matrix):\n",
    "        # return cdist(self.t1_matrix, self.t2_matrix, 'euclidean')\n",
    "        diff = t1_matrix - t2_matrix\n",
    "        return np.einsum('ij,ij->ij', diff, diff)\n",
    "\n",
    "    def value_priority_ranking(self, difference_matrix):\n",
    "        sorted_rows = np.sort(difference_matrix, axis=1)\n",
    "        sorted_rows_idx = np.argsort(difference_matrix, axis=1)\n",
    "        sorted_value = np.array([[self.value_list[idx] for idx in row] for row in sorted_rows_idx])\n",
    "        return sorted_rows, sorted_rows_idx, sorted_value\n",
    "\n",
    "    def manhattan_distance(self, t1_matrix, t2_matrix):\n",
    "        # return cdist(self.t1_matrix, self.t2_matrix, 'cityblock')\n",
    "        return np.abs(t1_matrix - t2_matrix)\n",
    "\n",
    "    def scenario_ranking(self, difference_matrix):\n",
    "        sorted_columns = np.sort(difference_matrix, axis=0)\n",
    "        sorted_columns_idx = np.argsort(difference_matrix, axis=0)\n",
    "        sorted_value = np.array([[self.scenarios_list[idx] for idx in row] for row in sorted_columns_idx])\n",
    "        return sorted_columns, sorted_columns_idx, sorted_value\n"
   ]
  },
  {
   "cell_type": "code",
   "execution_count": 45,
   "metadata": {},
   "outputs": [],
   "source": [
    "align_measure = AlignmentMeasures(value_list, scenarios_list)\n",
    "distance_country = align_measure.manhattan_distance(normalized_t1_grouped_country_values, normalized_t2_grouped_country_values)\n",
    "distance_topic = align_measure.manhattan_distance(normalized_t1_grouped_topic_values, normalized_t2_grouped_topic_values)"
   ]
  },
  {
   "cell_type": "code",
   "execution_count": 46,
   "metadata": {},
   "outputs": [],
   "source": [
    "align_measure = AlignmentMeasures(value_list, scenarios_list)\n",
    "distance_country = align_measure.manhattan_distance(normalized_t1_grouped_country_values, normalized_t2_grouped_country_values)\n",
    "distance_topic = align_measure.manhattan_distance(normalized_t1_grouped_topic_values, normalized_t2_grouped_topic_values)"
   ]
  },
  {
   "cell_type": "code",
   "execution_count": null,
   "metadata": {},
   "outputs": [],
   "source": []
  },
  {
   "cell_type": "code",
   "execution_count": null,
   "metadata": {},
   "outputs": [],
   "source": [
    "# def grouping_country(full_pd: pd.DataFrame, full_list: list, column: str, starting_idx: int = 2) -> pd.DataFrame:\n",
    "#     grouping_country = []\n",
    "#     for item in full_list:\n",
    "#         average_scenarios = full_pd[(full_pd[column] == item)].iloc[:,starting_idx:].mean()\n",
    "#         grouping_country.append(list(average_scenarios))\n",
    "#     results = pd.DataFrame(grouping_country, columns=[f\"value_{value}\" for value in value_list])\n",
    "#     return results.to_numpy()\n"
   ]
  },
  {
   "cell_type": "code",
   "execution_count": null,
   "metadata": {},
   "outputs": [],
   "source": []
  },
  {
   "cell_type": "code",
   "execution_count": null,
   "metadata": {},
   "outputs": [],
   "source": []
  },
  {
   "cell_type": "code",
   "execution_count": 53,
   "metadata": {},
   "outputs": [
    {
     "name": "stdout",
     "output_type": "stream",
     "text": [
      "rank_dis_topic [0.18436717 0.17992526 0.16202336 0.16024436 0.1523899  0.14990602\n",
      " 0.14817177 0.14279001 0.14121241 0.12827828 0.12753983]\n",
      "rank_topic_name ['SocialNet', 'Leisure', 'Politics', 'Environment', 'Identity', 'Work', 'Inequality', 'Citizenship', 'Family', 'Health', 'Religion']\n"
     ]
    }
   ],
   "source": [
    "rank_dis_topic = np.sort(distance_topic.mean(1))[::-1]\n",
    "rank_topic_idx = np.argsort(distance_topic.mean(1))[::-1]\n",
    "rank_topic_name = [vis_topics[idx] for idx in rank_topic_idx]\n",
    "print(\"rank_dis_topic\", rank_dis_topic)\n",
    "print(\"rank_topic_name\", rank_topic_name)"
   ]
  },
  {
   "cell_type": "code",
   "execution_count": 54,
   "metadata": {},
   "outputs": [],
   "source": [
    "# import numpy as np\n",
    "# import seaborn as sns\n",
    "# import matplotlib.pyplot as plt\n",
    "# sns.set_theme(style=\"white\", context=\"talk\")\n",
    "# rs = np.random.RandomState(8)\n",
    "\n",
    "# # # Set up the matplotlib figure\n",
    "# # f, (ax1, ax2, ax3) = plt.subplots(3, 1, figsize=(7, 5), sharex=True)\n",
    "\n",
    "# # Set up the matplotlib figure\n",
    "# f, ax1 = plt.subplots(1, 1, figsize=(7, 5), sharex=True)\n",
    "\n",
    "\n",
    "# # Generate some sequential data\n",
    "# x = rank_topic_name\n",
    "# y1 = rank_dis_topic\n",
    "# sns.barplot(x=x, y=y1, palette=\"rocket\", ax=ax1)\n",
    "# # ax1.axhline(0, color=\"k\", clip_on=False)\n",
    "# # ax1.set_ylabel(\"Sequential\")\n",
    "\n",
    "# # # Center the data to make it diverging\n",
    "# # y2 = y1 - 5.5\n",
    "# # sns.barplot(x=x, y=y2, hue=x, palette=\"vlag\", ax=ax2)\n",
    "# # ax2.axhline(0, color=\"k\", clip_on=False)\n",
    "# # ax2.set_ylabel(\"Diverging\")\n",
    "\n",
    "# # # Randomly reorder the data to make it qualitative\n",
    "# # y3 = rs.choice(y1, len(y1), replace=False)\n",
    "# # sns.barplot(x=x, y=y3, hue=x, palette=\"deep\", ax=ax3)\n",
    "# # ax3.axhline(0, color=\"k\", clip_on=False)\n",
    "# # ax3.set_ylabel(\"Qualitative\")\n",
    "\n",
    "# # Finalize the plot\n",
    "# # sns.despine(bottom=True)\n",
    "# # plt.setp(f.axes, yticks=[])\n",
    "# plt.tight_layout(h_pad=2)"
   ]
  },
  {
   "cell_type": "code",
   "execution_count": 55,
   "metadata": {},
   "outputs": [],
   "source": [
    "# rank_dis_country = np.sort(distance_country.mean(1))[::-1]\n",
    "# rank_country_idx = np.argsort(distance_country.mean(1))[::-1]\n",
    "# rank_country_name = [vis_countries[idx] for idx in rank_country_idx]\n",
    "# print(\"rank_dis_topic\", rank_dis_country)\n",
    "# print(\"rank_topic_name\", rank_country_name)"
   ]
  },
  {
   "cell_type": "code",
   "execution_count": 56,
   "metadata": {},
   "outputs": [],
   "source": [
    "# import numpy as np\n",
    "# import seaborn as sns\n",
    "# import matplotlib.pyplot as plt\n",
    "# sns.set_theme(style=\"white\", context=\"talk\")\n",
    "# rs = np.random.RandomState(8)\n",
    "\n",
    "\n",
    "# # Set up the matplotlib figure\n",
    "# f, ax1 = plt.subplots(1, 1, figsize=(7, 5), sharex=True)\n",
    "\n",
    "\n",
    "# # Generate some sequential data\n",
    "# x = rank_country_name\n",
    "# y1 = rank_dis_country\n",
    "# sns.barplot(x=x, y=y1, palette=\"rocket\", ax=ax1)\n",
    "# plt.tight_layout(h_pad=2)"
   ]
  },
  {
   "cell_type": "code",
   "execution_count": 52,
   "metadata": {},
   "outputs": [],
   "source": [
    "# import numpy as np\n",
    "# import seaborn as sns\n",
    "# import matplotlib.pyplot as plt\n",
    "# sns.set_theme(style=\"white\", context=\"talk\")\n",
    "# rs = np.random.RandomState(8)\n",
    "\n",
    "\n",
    "# # Set up the matplotlib figure\n",
    "# f, ax = plt.subplots(1, 1, figsize=(15, 5), sharex=True)\n",
    "\n",
    "\n",
    "# # Generate some sequential data\n",
    "# x = rank_country_name\n",
    "# y1 = rank_dis_country\n",
    "# sns.barplot(x=x, y=y1, palette=\"rocket\", ax=ax)\n",
    "\n",
    "\n",
    "# ax.set_xticklabels(ax.get_xticklabels(), fontsize=12, fontfamily='Arial', color='black', rotation=45, ha='right')\n",
    "# ax.set_yticklabels(ax.get_yticklabels(), fontsize=12, fontfamily='Arial', color='black', rotation=45, ha='right')\n",
    "\n",
    "# plt.tight_layout(h_pad=2)"
   ]
  },
  {
   "cell_type": "code",
   "execution_count": 53,
   "metadata": {},
   "outputs": [],
   "source": [
    "# import numpy as np\n",
    "# import seaborn as sns\n",
    "# import matplotlib.pyplot as plt\n",
    "# sns.set_theme(style=\"white\", context=\"talk\")\n",
    "# rs = np.random.RandomState(8)\n",
    "\n",
    "\n",
    "# # Set up the matplotlib figure\n",
    "# f, ax = plt.subplots(1, 1, figsize=(15, 5), sharex=True)\n",
    "\n",
    "\n",
    "# # Generate some sequential data\n",
    "# x = rank_topic_name\n",
    "# y1 = rank_dis_topic\n",
    "# sns.barplot(x=x, y=y1, palette=\"rocket\", ax=ax)\n",
    "\n",
    "\n",
    "# ax.set_xticklabels(ax.get_xticklabels(), fontsize=12, fontfamily='Arial', color='black', rotation=45, ha='right')\n",
    "# ax.set_yticklabels(ax.get_yticklabels(), fontsize=12, fontfamily='Arial', color='black', rotation=45, ha='right')\n",
    "\n",
    "# plt.tight_layout(h_pad=2)"
   ]
  },
  {
   "cell_type": "code",
   "execution_count": null,
   "metadata": {},
   "outputs": [],
   "source": []
  },
  {
   "cell_type": "code",
   "execution_count": null,
   "metadata": {},
   "outputs": [],
   "source": []
  },
  {
   "cell_type": "code",
   "execution_count": 72,
   "metadata": {},
   "outputs": [
    {
     "data": {
      "text/plain": [
       "['United States',\n",
       " 'India',\n",
       " 'Pakistan',\n",
       " 'Nigeria',\n",
       " 'Philippines',\n",
       " 'United Kingdom',\n",
       " 'Germany',\n",
       " 'Uganda',\n",
       " 'Canada',\n",
       " 'Egypt',\n",
       " 'France',\n",
       " 'Australia']"
      ]
     },
     "execution_count": 72,
     "metadata": {},
     "output_type": "execute_result"
    }
   ],
   "source": [
    "countries"
   ]
  },
  {
   "cell_type": "code",
   "execution_count": 81,
   "metadata": {},
   "outputs": [
    {
     "name": "stdout",
     "output_type": "stream",
     "text": [
      "rank_dis_topic [0.40909091 0.36606523 0.33206107 0.29458709 0.29389313 0.28244275\n",
      " 0.26891048 0.26335878 0.24496877 0.24115198 0.23351839 0.22657876\n",
      " 0.22137405 0.20992366 0.19153366 0.16412214 0.15267176 0.1426093\n",
      " 0.13462873 0.1148508  0.11034004 0.11034004 0.10305344 0.09576683\n",
      " 0.09090909 0.08848022 0.08778626 0.0870923  0.07911173 0.07564192\n",
      " 0.06592644 0.05135323 0.04476058 0.03816794 0.03400416 0.03261624\n",
      " 0.03157529 0.03053435 0.02637058 0.02290076 0.02047189 0.01145038\n",
      " 0.01145038 0.00763359 0.00624566 0.00381679 0.00381679 0.00381679\n",
      " 0.00381679 0.00381679 0.         0.         0.         0.\n",
      " 0.         0.        ]\n",
      "rank_topic_name ['Devout', 'Independent', 'Moderate', 'A Spiritual Life', 'Humble', 'A Varied Life', 'Loyal', 'Honoring of Parents and Elders', 'Self-Discipline', 'Wealth', 'National Security', 'Influential', 'Inner Harmony', 'Creativity', 'Detachment', 'Unity With Nature', 'Politeness', 'Authority', 'Obedient', 'Preserving my Public Image', 'Daring', 'Respect for Tradition', 'Capable', 'An Exciting Life', 'Meaning in Life', 'A World of Beauty', 'Healthy', 'Choosing Own Goals', 'Pleasure', 'Curious', 'Successful', 'Clean', 'Social Order', 'Social Power', 'Reciprocation of Favors', 'Accepting my Portion in Life', 'Ambitious', 'Wisdom', 'Social Recognition', 'Mature Love', 'Forgiving', 'Broad-Minded', 'Responsible', 'Sense of Belonging', 'Enjoying Life', 'Self-Respect', 'Freedom', 'Protecting the Environment', 'Helpful', 'Honest', 'Intelligent', 'Social Justice', 'Equality', 'True Friendship', 'Family Security', 'A World at Peace']\n"
     ]
    }
   ],
   "source": [
    "# k = 5 # UK\n",
    "# rank_dis_country = np.sort(distance_country[k])[::-1]\n",
    "# rank_country_idx = np.argsort(distance_country[k])[::-1]\n",
    "# rank_country_name = [value_list[idx] for idx in rank_country_idx]\n",
    "# print(\"rank_dis_topic\", rank_dis_country)\n",
    "# print(\"rank_topic_name\", rank_country_name)"
   ]
  },
  {
   "cell_type": "code",
   "execution_count": 48,
   "metadata": {},
   "outputs": [],
   "source": [
    "# import numpy as np\n",
    "# import seaborn as sns\n",
    "# import matplotlib.pyplot as plt\n",
    "# sns.set_theme(style=\"white\", context=\"talk\")\n",
    "# rs = np.random.RandomState(8)\n",
    "\n",
    "\n",
    "# # Set up the matplotlib figure\n",
    "# f, ax = plt.subplots(1, 1, figsize=(15, 5), sharex=True)\n",
    "\n",
    "\n",
    "# # Generate some sequential data\n",
    "# x = rank_country_name\n",
    "# y1 = rank_dis_country\n",
    "# sns.barplot(x=x, y=y1, palette=\"rocket\", ax=ax)\n",
    "\n",
    "\n",
    "# ax.set_xticklabels(ax.get_xticklabels(), fontsize=12, fontfamily='Arial', color='black', rotation=45, ha='right')\n",
    "# ax.set_yticklabels(ax.get_yticklabels(), fontsize=12, fontfamily='Arial', color='black', rotation=45, ha='right')\n",
    "# ax.spines[['right', 'top']].set_visible(False)\n",
    "\n",
    "# ax.set_xlabel('Value Rankings', fontsize=14, fontfamily='Arial', color='black')\n",
    "# ax.set_ylabel('Alignment Distance', fontsize=14, fontfamily='Arial', color='black')\n",
    "# ax.set_title('United Kindom', fontsize=14, fontfamily='Arial', color='black')\n",
    "\n",
    "\n",
    "# plt.tight_layout(h_pad=2)\n",
    "\n",
    "# plt.savefig(\"../../outputs/figures/ranking_uk.pdf\", format='pdf', bbox_inches='tight', dpi=300)"
   ]
  },
  {
   "cell_type": "code",
   "execution_count": 49,
   "metadata": {},
   "outputs": [],
   "source": [
    "# k = 7 # Uganda\n",
    "# rank_dis_country = np.sort(distance_country[k])[::-1]\n",
    "# rank_country_idx = np.argsort(distance_country[k])[::-1]\n",
    "# rank_country_name = [value_list[idx] for idx in rank_country_idx]\n",
    "# print(\"rank_dis_topic\", rank_dis_country)\n",
    "# print(\"rank_topic_name\", rank_country_name)"
   ]
  },
  {
   "cell_type": "code",
   "execution_count": 50,
   "metadata": {},
   "outputs": [],
   "source": [
    "# # import numpy as np\n",
    "# # import seaborn as sns\n",
    "# # import matplotlib.pyplot as plt\n",
    "# # sns.set_theme(style=\"white\", context=\"talk\")\n",
    "# # rs = np.random.RandomState(8)\n",
    "\n",
    "\n",
    "# # # Set up the matplotlib figure\n",
    "# # f, ax = plt.subplots(1, 1, figsize=(15, 5), sharex=True)\n",
    "\n",
    "\n",
    "# # # Generate some sequential data\n",
    "# # x = rank_country_name\n",
    "# # y1 = rank_dis_country\n",
    "# # sns.barplot(x=x, y=y1, palette=\"rocket\", ax=ax)\n",
    "\n",
    "\n",
    "# # ax.set_xticklabels(ax.get_xticklabels(), fontsize=12, fontfamily='Arial', color='black', rotation=45, ha='right')\n",
    "# # ax.set_yticklabels(ax.get_yticklabels(), fontsize=12, fontfamily='Arial', color='black', rotation=45, ha='right')\n",
    "# # ax.spines[['right', 'top']].set_visible(False)\n",
    "# # plt.tight_layout(h_pad=2)\n",
    "# import numpy as np\n",
    "# import seaborn as sns\n",
    "# import matplotlib.pyplot as plt\n",
    "# sns.set_theme(style=\"white\", context=\"talk\")\n",
    "# rs = np.random.RandomState(8)\n",
    "\n",
    "\n",
    "# # Set up the matplotlib figure\n",
    "# f, ax = plt.subplots(1, 1, figsize=(15, 5), sharex=True)\n",
    "\n",
    "\n",
    "# # Generate some sequential data\n",
    "# x = rank_country_name\n",
    "# y1 = rank_dis_country\n",
    "# sns.barplot(x=x, y=y1, palette=\"rocket\", ax=ax)\n",
    "\n",
    "\n",
    "# ax.set_xticklabels(ax.get_xticklabels(), fontsize=12, fontfamily='Arial', color='black', rotation=45, ha='right')\n",
    "# ax.set_yticklabels(ax.get_yticklabels(), fontsize=12, fontfamily='Arial', color='black', rotation=45, ha='right')\n",
    "# ax.spines[['right', 'top']].set_visible(False)\n",
    "\n",
    "# ax.set_xlabel('Value Rankings', fontsize=14, fontfamily='Arial', color='black')\n",
    "# ax.set_ylabel('Alignment Distance', fontsize=14, fontfamily='Arial', color='black')\n",
    "# ax.set_title('Uganda', fontsize=14, fontfamily='Arial', color='black')\n",
    "\n",
    "\n",
    "# plt.tight_layout(h_pad=2)\n",
    "\n",
    "# plt.savefig(\"../../outputs/figures/ranking_uganda.pdf\", format='pdf', bbox_inches='tight', dpi=300)"
   ]
  },
  {
   "cell_type": "code",
   "execution_count": null,
   "metadata": {},
   "outputs": [],
   "source": []
  },
  {
   "cell_type": "code",
   "execution_count": null,
   "metadata": {},
   "outputs": [],
   "source": []
  },
  {
   "cell_type": "markdown",
   "metadata": {},
   "source": [
    "## Results Visualization"
   ]
  },
  {
   "cell_type": "code",
   "execution_count": 51,
   "metadata": {},
   "outputs": [],
   "source": [
    "# from string import ascii_letters\n",
    "# import numpy as np\n",
    "# import pandas as pd\n",
    "# import seaborn as sns\n",
    "# import matplotlib.pyplot as plt\n",
    "\n",
    "# import matplotlib\n",
    "# matplotlib.font_manager.get_font_names()\n",
    "\n",
    "# def heatmap_visualization(matrix, x_axis_labels, y_axis_labels, figsize, save_path=None):\n",
    "#     sns.set_theme(style=\"white\")\n",
    "\n",
    "#     # Set up the matplotlib figure\n",
    "#     f, ax = plt.subplots(figsize=figsize)\n",
    "\n",
    "#     # Generate a custom diverging colormap\n",
    "#     cmap = sns.diverging_palette(230, 20, as_cmap=True)\n",
    "\n",
    "#     # Draw the heatmap with the mask and correct aspect ratio\n",
    "#     # sns.heatmap(corr,  cmap=cmap, vmax=.3, center=0, square=True, linewidths=.5, cbar_kws={\"shrink\": .5})\n",
    "#     hm = sns.heatmap(matrix,  cmap=cmap, square=True, cbar_kws={\"shrink\": .18, \"pad\": 0.01},  linewidths=.5, xticklabels=x_axis_labels, yticklabels=y_axis_labels)\n",
    "\n",
    "#     ax.set_xticklabels(ax.get_xticklabels(), fontsize=12, fontfamily='Arial', color='black')\n",
    "#     ax.set_yticklabels(ax.get_yticklabels(), fontsize=12, fontfamily='Arial', color='black')\n",
    "\n",
    "#     # Style the colorbar labels\n",
    "#     cbar = hm.collections[0].colorbar\n",
    "#     cbar.ax.tick_params(labelsize=12)\n",
    "#     cbar.ax.set_yticklabels(cbar.ax.get_yticklabels(), \n",
    "#                            fontfamily='Arial',\n",
    "#                            color='black')\n",
    "\n",
    "#     # Save figure if path is provided\n",
    "#     if save_path:\n",
    "#         plt.savefig(save_path, format='pdf', bbox_inches='tight', dpi=300)\n",
    "        "
   ]
  },
  {
   "cell_type": "code",
   "execution_count": 41,
   "metadata": {},
   "outputs": [],
   "source": [
    "# figsize = (15, 14)\n",
    "# heatmap_visualization(distance_country, value_list, vis_countries, figsize, \"../../outputs/figures/distance_country.pdf\")"
   ]
  },
  {
   "cell_type": "code",
   "execution_count": 42,
   "metadata": {},
   "outputs": [],
   "source": [
    "# figsize = (15, 14)\n",
    "# heatmap_visualization(distance_topic, value_list, vis_topics, figsize, \"../../outputs/figures/distance_topic.pdf\")"
   ]
  },
  {
   "cell_type": "markdown",
   "metadata": {},
   "source": []
  },
  {
   "cell_type": "code",
   "execution_count": 43,
   "metadata": {},
   "outputs": [],
   "source": [
    "# figsize = (15, 14)\n",
    "# heatmap_visualization(normalized_t2_grouped_country_values, value_list, vis_topics, figsize, \"../../outputs/figures/distance_topic.pdf\")"
   ]
  },
  {
   "cell_type": "code",
   "execution_count": 47,
   "metadata": {},
   "outputs": [],
   "source": [
    "# figsize = (15, 14)\n",
    "# heatmap_visualization(normalized_t2_grouped_country_values, value_list, countries, figsize, \"../../outputs/figures/t2_country_gpt4o_mini.pdf\")"
   ]
  },
  {
   "cell_type": "code",
   "execution_count": 44,
   "metadata": {},
   "outputs": [],
   "source": [
    "# figsize = (15, 14)\n",
    "# heatmap_visualization(normalized_t1_grouped_country_values, value_list, countries, figsize, \"../../outputs/figures/t1_country_gpt4o_mini.pdf\")"
   ]
  },
  {
   "cell_type": "code",
   "execution_count": 46,
   "metadata": {},
   "outputs": [],
   "source": [
    "# figsize = (15, 14)\n",
    "# heatmap_visualization(normalized_t1_grouped_topic_values, value_list, vis_topics, figsize, \"../../outputs/figures/t1_topics_gpt4o_mini.pdf\")"
   ]
  },
  {
   "cell_type": "code",
   "execution_count": 45,
   "metadata": {},
   "outputs": [],
   "source": [
    "# figsize = (15, 14)\n",
    "# heatmap_visualization(normalized_t2_grouped_topic_values, value_list, vis_topics, figsize, \"../../outputs/figures/t2_topics_gpt4o_mini.pdf\")"
   ]
  },
  {
   "cell_type": "code",
   "execution_count": null,
   "metadata": {},
   "outputs": [],
   "source": []
  },
  {
   "cell_type": "code",
   "execution_count": null,
   "metadata": {},
   "outputs": [],
   "source": []
  },
  {
   "cell_type": "code",
   "execution_count": null,
   "metadata": {},
   "outputs": [],
   "source": []
  }
 ],
 "metadata": {
  "kernelspec": {
   "display_name": "base",
   "language": "python",
   "name": "python3"
  },
  "language_info": {
   "codemirror_mode": {
    "name": "ipython",
    "version": 3
   },
   "file_extension": ".py",
   "mimetype": "text/x-python",
   "name": "python",
   "nbconvert_exporter": "python",
   "pygments_lexer": "ipython3",
   "version": "3.11.3"
  }
 },
 "nbformat": 4,
 "nbformat_minor": 2
}
