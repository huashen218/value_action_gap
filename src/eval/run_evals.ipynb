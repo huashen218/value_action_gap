{
 "cells": [
  {
   "cell_type": "markdown",
   "metadata": {},
   "source": [
    "### Setup"
   ]
  },
  {
   "cell_type": "code",
   "execution_count": 2,
   "metadata": {},
   "outputs": [],
   "source": [
    "import sys\n",
    "sys.path.append(\"../\")  # Add parent directory to Python path\n",
    "from models.llm import *\n",
    "\n",
    "llms = [\n",
    "    ModelConfig(\"gpt-4o-mini\", \"openai\", os.environ[\"OPENAI_API_KEY\"], \"https://api.openai.com/v1\"),\n",
    "]"
   ]
  },
  {
   "cell_type": "markdown",
   "metadata": {},
   "source": [
    "### Load data"
   ]
  },
  {
   "cell_type": "code",
   "execution_count": 4,
   "metadata": {},
   "outputs": [],
   "source": [
    "import pandas as pd\n",
    "\n",
    "df = pd.read_csv(\"../../outputs/value_action_generation.csv\")\n",
    "values = df[\"value\"].unique().tolist()"
   ]
  },
  {
   "cell_type": "markdown",
   "metadata": {},
   "source": [
    "### TASK 1\n",
    "Given the scenario, identify the relevant values"
   ]
  },
  {
   "cell_type": "code",
   "execution_count": null,
   "metadata": {},
   "outputs": [],
   "source": [
    "# TODO: add compatibility with multiple prompt strategies\n",
    "\n",
    "\n",
    "def evaluate_scenario_task1(row, model, value):\n",
    "    polarity = row[\"polarity\"]\n",
    "    scenario = row[\"scenario\"]\n",
    "    prompt = f\"\"\"\n",
    "    Is the following scenario a {polarity} example of {value}?\n",
    "    Scenario: {scenario}\n",
    "    \"\"\"\n",
    "    hist = [{\"role\": \"user\", \"content\": prompt}]\n",
    "    ans, _ = model.chat(hist, gen_conf={})\n",
    "    return {\n",
    "        \"model\": model.name,\n",
    "        \"ground_truth\": row[\"ground_truth\"],\n",
    "        \"value\": value,\n",
    "        \"polarity\": polarity,\n",
    "        \"ans\": ans\n",
    "    }\n",
    "\n",
    "def score_task1(row, ans):\n",
    "    if row[\"ground_truth\"] == (row[\"value\"], row[\"polarity\"]) and ans == \"yes\":\n",
    "        return \"tp\"\n",
    "    elif row[\"ground_truth\"] != (row[\"value\"], row[\"polarity\"]) and ans == \"no\":\n",
    "        return \"tn\"\n",
    "    elif row[\"ground_truth\"] == (row[\"value\"], row[\"polarity\"]) and ans == \"no\":\n",
    "        return \"fp\"\n",
    "    elif row[\"ground_truth\"] != (row[\"value\"], row[\"polarity\"]) and ans == \"yes\":\n",
    "        return \"fn\"\n",
    "    else:\n",
    "        return \"other\"\n",
    "\n",
    "\n",
    "res = [\n",
    "    evaluate_scenario_task1(row, model, value)\n",
    "    for _, row in df.iterrows()\n",
    "    for model in llms\n",
    "    for value in values\n",
    "]\n",
    "df_task1 = pd.DataFrame(res)\n",
    "df_task1.to_csv(\"data/task1_results.csv\", index=False)"
   ]
  },
  {
   "cell_type": "code",
   "execution_count": null,
   "metadata": {},
   "outputs": [],
   "source": [
    "df_task1[\"score\"] = df_task1.apply(lambda row: score_task1(row, row[\"ans\"]), axis=1)\n",
    "df_task1.to_csv(\"data/task1_results.csv\", index=False)\n",
    "\n",
    "# F1 score\n",
    "def f1_score(df):\n",
    "    tp = df[df[\"score\"] == \"tp\"].shape[0]\n",
    "    tn = df[df[\"score\"] == \"tn\"].shape[0]\n",
    "    fp = df[df[\"score\"] == \"fp\"].shape[0]\n",
    "    fn = df[df[\"score\"] == \"fn\"].shape[0]\n",
    "    return tp / (tp + 0.5 * (fp + fn))\n",
    "\n",
    "res = {}\n",
    "# extend to include different prompt strategies\n",
    "for model in llms:\n",
    "    res[model.name] = f1_score(df_task1[df_task1[\"model\"] == model.name])\n",
    "\n",
    "print(res)\n",
    "\n",
    "df_f1 = pd.DataFrame(res.items(), columns=[\"model\", \"f1\"])\n",
    "df_f1.to_csv(\"data/task1_f1.csv\", index=False)"
   ]
  },
  {
   "cell_type": "markdown",
   "metadata": {},
   "source": [
    "### TASK 2\n",
    "Given the scenario and a value, identify the spans of text that support the value"
   ]
  },
  {
   "cell_type": "code",
   "execution_count": null,
   "metadata": {},
   "outputs": [],
   "source": [
    "def create_prompt_task2(scenario, value):\n",
    "    return f\"\"\"\n",
    "    Which text spans support the value \"{value}\"?\n",
    "    Scenario: {scenario}\n",
    "    \"\"\"\n",
    "\n",
    "def evaluate_scenario_task2(row, model, value):\n",
    "    prompt = create_prompt_task2(row[\"scenario\"], value)\n",
    "    hist = [{\"role\": \"user\", \"content\": prompt}]\n",
    "    ans, _ = model.chat(hist, gen_conf={})\n",
    "    return {\n",
    "        \"model\": model.name,\n",
    "        \"value\": value,\n",
    "        \"ans\": ans\n",
    "    }\n",
    "\n",
    "def score_task2(row, ans):\n",
    "    return \"not implemented\"\n",
    "\n",
    "res = [\n",
    "    evaluate_scenario_task2(row, model, value)\n",
    "    for _, row in df.iterrows()\n",
    "    for model in llms\n",
    "    for value in values\n",
    "]\n",
    "\n",
    "df_task2 = pd.DataFrame(res)\n",
    "df_task2.to_csv(\"data/task2_results.csv\", index=False)"
   ]
  },
  {
   "cell_type": "markdown",
   "metadata": {},
   "source": [
    "### TASK 3\n",
    "???"
   ]
  }
 ],
 "metadata": {
  "kernelspec": {
   "display_name": ".venv",
   "language": "python",
   "name": "python3"
  },
  "language_info": {
   "codemirror_mode": {
    "name": "ipython",
    "version": 3
   },
   "file_extension": ".py",
   "mimetype": "text/x-python",
   "name": "python",
   "nbconvert_exporter": "python",
   "pygments_lexer": "ipython3",
   "version": "3.11.2"
  }
 },
 "nbformat": 4,
 "nbformat_minor": 2
}
