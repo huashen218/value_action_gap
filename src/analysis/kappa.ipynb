{
 "cells": [
  {
   "cell_type": "code",
   "execution_count": 1,
   "metadata": {},
   "outputs": [],
   "source": [
    "import pandas as pd\n",
    "\n",
    "df1 = pd.read_csv('../outputs/human_annotation/human_annotation_value_actions_gpt_4o - Hua.csv')\n",
    "df2 = pd.read_csv('../outputs/human_annotation/human_annotation_value_actions_gpt_4o - Nick.csv')\n",
    "\n"
   ]
  },
  {
   "cell_type": "code",
   "execution_count": 6,
   "metadata": {},
   "outputs": [],
   "source": [
    "hua_prompt_3 = df1.iloc[:, 18][1:81]\n",
    "hua_prompt_7 = df1.iloc[:, 26][1:81]\n",
    "\n",
    "nick_prompt_3 = df2.iloc[:, 18][1:81]\n",
    "nick_prompt_7 = df2.iloc[:, 26][1:81]\n",
    "\n"
   ]
  },
  {
   "cell_type": "code",
   "execution_count": 7,
   "metadata": {},
   "outputs": [
    {
     "data": {
      "text/plain": [
       "1     0\n",
       "2     1\n",
       "3     1\n",
       "4     1\n",
       "5     1\n",
       "     ..\n",
       "76    1\n",
       "77    1\n",
       "78    1\n",
       "79    1\n",
       "80    1\n",
       "Name: Unnamed: 18, Length: 80, dtype: object"
      ]
     },
     "execution_count": 7,
     "metadata": {},
     "output_type": "execute_result"
    }
   ],
   "source": [
    "hua_prompt_3"
   ]
  },
  {
   "cell_type": "code",
   "execution_count": 8,
   "metadata": {},
   "outputs": [
    {
     "data": {
      "text/plain": [
       "1     0\n",
       "2     1\n",
       "3     1\n",
       "4     1\n",
       "5     1\n",
       "     ..\n",
       "76    1\n",
       "77    1\n",
       "78    1\n",
       "79    1\n",
       "80    1\n",
       "Name: Unnamed: 18, Length: 80, dtype: object"
      ]
     },
     "execution_count": 8,
     "metadata": {},
     "output_type": "execute_result"
    }
   ],
   "source": [
    "hua_prompt_3"
   ]
  },
  {
   "cell_type": "code",
   "execution_count": 9,
   "metadata": {},
   "outputs": [
    {
     "data": {
      "text/plain": [
       "1     0\n",
       "2     1\n",
       "3     1\n",
       "4     1\n",
       "5     1\n",
       "     ..\n",
       "76    1\n",
       "77    1\n",
       "78    1\n",
       "79    1\n",
       "80    1\n",
       "Name: Unnamed: 18, Length: 80, dtype: object"
      ]
     },
     "execution_count": 9,
     "metadata": {},
     "output_type": "execute_result"
    }
   ],
   "source": [
    "nick_prompt_3"
   ]
  },
  {
   "cell_type": "code",
   "execution_count": 10,
   "metadata": {},
   "outputs": [
    {
     "data": {
      "text/plain": [
       "79"
      ]
     },
     "execution_count": 10,
     "metadata": {},
     "output_type": "execute_result"
    }
   ],
   "source": [
    "sum(hua_prompt_3 == nick_prompt_3.to_list())"
   ]
  },
  {
   "cell_type": "markdown",
   "metadata": {},
   "source": [
    "Cohen suggested the Kappa result be interpreted as follows: \n",
    "- values ≤ 0 as indicating no agreement;\n",
    "- 0.01–0.20 as none to slight;\n",
    "- 0.21–0.40 as fair;\n",
    "- 0.41– 0.60 as moderate;\n",
    "- 0.61–0.80 as substantial;\n",
    "- 0.81–1.00 as almost perfect agreement. "
   ]
  },
  {
   "cell_type": "code",
   "execution_count": 11,
   "metadata": {},
   "outputs": [
    {
     "data": {
      "text/plain": [
       "0.9264705882352942"
      ]
     },
     "execution_count": 11,
     "metadata": {},
     "output_type": "execute_result"
    }
   ],
   "source": [
    "from sklearn.metrics import cohen_kappa_score\n",
    "cohen_kappa_score(hua_prompt_3, nick_prompt_3)"
   ]
  },
  {
   "cell_type": "code",
   "execution_count": 12,
   "metadata": {},
   "outputs": [
    {
     "data": {
      "text/plain": [
       "0.7073170731707317"
      ]
     },
     "execution_count": 12,
     "metadata": {},
     "output_type": "execute_result"
    }
   ],
   "source": [
    "cohen_kappa_score(hua_prompt_7, nick_prompt_7)"
   ]
  },
  {
   "cell_type": "code",
   "execution_count": null,
   "metadata": {},
   "outputs": [],
   "source": []
  },
  {
   "cell_type": "markdown",
   "metadata": {},
   "source": []
  },
  {
   "cell_type": "code",
   "execution_count": null,
   "metadata": {},
   "outputs": [],
   "source": []
  }
 ],
 "metadata": {
  "kernelspec": {
   "display_name": "base",
   "language": "python",
   "name": "python3"
  },
  "language_info": {
   "codemirror_mode": {
    "name": "ipython",
    "version": 3
   },
   "file_extension": ".py",
   "mimetype": "text/x-python",
   "name": "python",
   "nbconvert_exporter": "python",
   "pygments_lexer": "ipython3",
   "version": "3.11.3"
  }
 },
 "nbformat": 4,
 "nbformat_minor": 2
}
