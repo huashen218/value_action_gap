{
 "cells": [
  {
   "cell_type": "code",
   "execution_count": 1,
   "metadata": {},
   "outputs": [],
   "source": [
    "import pandas as pd\n",
    "\n",
    "\n",
    "df1 = pd.read_csv('../outputs/human_annotation/human_annotation_value_actions_gpt_4o - Hua.csv')\n",
    "df2 = pd.read_csv('../outputs/human_annotation/human_annotation_value_actions_gpt_4o - Nick.csv')\n",
    "\n"
   ]
  },
  {
   "cell_type": "code",
   "execution_count": 2,
   "metadata": {},
   "outputs": [],
   "source": [
    "hua_prompt_3 = df1.iloc[:, 18][1:-1]\n",
    "hua_prompt_7 = df1.iloc[:, 26][1:-1]\n",
    "\n",
    "nick_prompt_3 = df2.iloc[:, 18][1:-1]\n",
    "nick_prompt_7 = df2.iloc[:, 26][1:-1]\n",
    "\n"
   ]
  },
  {
   "cell_type": "markdown",
   "metadata": {},
   "source": [
    "Cohen suggested the Kappa result be interpreted as follows: \n",
    "- values ≤ 0 as indicating no agreement;\n",
    "- 0.01–0.20 as none to slight;\n",
    "- 0.21–0.40 as fair;\n",
    "- 0.41– 0.60 as moderate;\n",
    "- 0.61–0.80 as substantial;\n",
    "- 0.81–1.00 as almost perfect agreement. "
   ]
  },
  {
   "cell_type": "code",
   "execution_count": 3,
   "metadata": {},
   "outputs": [
    {
     "data": {
      "text/plain": [
       "0.22330097087378642"
      ]
     },
     "execution_count": 3,
     "metadata": {},
     "output_type": "execute_result"
    }
   ],
   "source": [
    "from sklearn.metrics import cohen_kappa_score\n",
    "cohen_kappa_score(hua_prompt_3, nick_prompt_3)"
   ]
  },
  {
   "cell_type": "code",
   "execution_count": 4,
   "metadata": {},
   "outputs": [
    {
     "data": {
      "text/plain": [
       "-0.08786610878661105"
      ]
     },
     "execution_count": 4,
     "metadata": {},
     "output_type": "execute_result"
    }
   ],
   "source": [
    "cohen_kappa_score(hua_prompt_7, nick_prompt_7)"
   ]
  },
  {
   "cell_type": "code",
   "execution_count": null,
   "metadata": {},
   "outputs": [],
   "source": []
  },
  {
   "cell_type": "markdown",
   "metadata": {},
   "source": []
  },
  {
   "cell_type": "code",
   "execution_count": null,
   "metadata": {},
   "outputs": [],
   "source": []
  }
 ],
 "metadata": {
  "kernelspec": {
   "display_name": "base",
   "language": "python",
   "name": "python3"
  },
  "language_info": {
   "codemirror_mode": {
    "name": "ipython",
    "version": 3
   },
   "file_extension": ".py",
   "mimetype": "text/x-python",
   "name": "python",
   "nbconvert_exporter": "python",
   "pygments_lexer": "ipython3",
   "version": "3.11.3"
  }
 },
 "nbformat": 4,
 "nbformat_minor": 2
}
