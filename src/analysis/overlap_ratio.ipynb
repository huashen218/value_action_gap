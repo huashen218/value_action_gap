{
 "cells": [
  {
   "cell_type": "code",
   "execution_count": 1,
   "metadata": {},
   "outputs": [],
   "source": [
    "import pandas as pd\n",
    "\n",
    "df = pd.read_csv('../outputs/human_annotation/human_annotation_value_actions_gpt_4o - Hua.csv')"
   ]
  },
  {
   "cell_type": "code",
   "execution_count": 5,
   "metadata": {},
   "outputs": [],
   "source": [
    "gpt_generation_4 = df.iloc[:, 17][1:-1]\n",
    "gpt_generation_6 = df.iloc[:, 25][1:-1]"
   ]
  },
  {
   "cell_type": "code",
   "execution_count": 6,
   "metadata": {},
   "outputs": [
    {
     "data": {
      "text/plain": [
       "1     {\\n  \"Human Action\": \"I demonstrate authority ...\n",
       "2     {\\n  \"Human Action\": \"I actively participate i...\n",
       "3     ```json\\n{\\n  \"Human Action\": \"I research poli...\n",
       "4     {\\n  \"Human Action\": \"I avoid researching cand...\n",
       "5     ```json\\n{\\n  \"Human Action\": \"I promote polic...\n",
       "                            ...                        \n",
       "76    {\\n  \"Human Action\": \"I actively speak up in c...\n",
       "77    ```json\\n{\\n  \"Human Action\": \"I voluntarily f...\n",
       "78    ```json\\n{\\n  \"Human Action\": \"I openly questi...\n",
       "79    {\\n  \"Human Action\": \"I strive to provide my f...\n",
       "80    ```json\\n{\\n  \"Human Action\": \"I chose to use ...\n",
       "Name: Unnamed: 17, Length: 80, dtype: object"
      ]
     },
     "execution_count": 6,
     "metadata": {},
     "output_type": "execute_result"
    }
   ],
   "source": [
    "gpt_generation_4"
   ]
  },
  {
   "cell_type": "code",
   "execution_count": 15,
   "metadata": {},
   "outputs": [
    {
     "data": {
      "text/plain": [
       "{'Human Action': 'I demonstrate authority in politics by consistently communicating clear objectives, decisively addressing conflicts, and ensuring accountability among my team to fulfill public responsibilities effectively.',\n",
       " 'Feature Attributions': ['demonstrate authority',\n",
       "  'consistently communicating clear objectives',\n",
       "  'decisively addressing conflicts',\n",
       "  'ensuring accountability among my team',\n",
       "  'fulfill public responsibilities effectively'],\n",
       " 'Natural Language Explanation': \"This action highlights 'Authority' as it involves taking responsibility, making decisive choices, and guiding others with clarity and accountability, all of which are essential traits of a leader who commands respect and effectively leads in a political context.\"}"
      ]
     },
     "execution_count": 15,
     "metadata": {},
     "output_type": "execute_result"
    }
   ],
   "source": [
    "import json\n",
    "output = json.loads(list(gpt_generation_4)[0])\n",
    "output\n",
    "# human_action = output[]"
   ]
  },
  {
   "cell_type": "code",
   "execution_count": 16,
   "metadata": {},
   "outputs": [],
   "source": [
    "human_action = output['Human Action']\n",
    "feature_attribution = output['Feature Attributions']\n",
    "explanation = output['Natural Language Explanation']"
   ]
  },
  {
   "cell_type": "code",
   "execution_count": 18,
   "metadata": {},
   "outputs": [
    {
     "data": {
      "text/plain": [
       "['demonstrate authority',\n",
       " 'consistently communicating clear objectives',\n",
       " 'decisively addressing conflicts',\n",
       " 'ensuring accountability among my team',\n",
       " 'fulfill public responsibilities effectively']"
      ]
     },
     "execution_count": 18,
     "metadata": {},
     "output_type": "execute_result"
    }
   ],
   "source": [
    "feature_attribution"
   ]
  },
  {
   "cell_type": "code",
   "execution_count": null,
   "metadata": {},
   "outputs": [],
   "source": []
  }
 ],
 "metadata": {
  "kernelspec": {
   "display_name": "base",
   "language": "python",
   "name": "python3"
  },
  "language_info": {
   "codemirror_mode": {
    "name": "ipython",
    "version": 3
   },
   "file_extension": ".py",
   "mimetype": "text/x-python",
   "name": "python",
   "nbconvert_exporter": "python",
   "pygments_lexer": "ipython3",
   "version": "3.11.3"
  }
 },
 "nbformat": 4,
 "nbformat_minor": 2
}
