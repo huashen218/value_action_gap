{
 "cells": [
  {
   "cell_type": "code",
   "execution_count": 3,
   "metadata": {},
   "outputs": [],
   "source": [
    "import pandas as pd\n",
    "\n",
    "\n",
    "countries = [\"United States\", \"India\", \"Pakistan\", \"Nigeria\", \"Philippines\", \"United Kingdom\", \"Germany\", \"Uganda\", \"Canada\", \"Egypt\", \"France\", \"Australia\"]\n",
    "\n",
    "\n",
    "all_data = []\n",
    "for country in countries:\n",
    "    path = f'1212_full_value_action_generation_gpt_4o_{country}.csv'\n",
    "    data = pd.read_csv(path)  \n",
    "    all_data.append(data)\n",
    "    \n",
    "\n",
    "for country in countries:\n",
    "    path = f'1217_full_value_action_generation_gpt_4o_{country}.csv'\n",
    "    data = pd.read_csv(path)  \n",
    "    all_data.append(data)\n",
    "    \n",
    "for country in countries:\n",
    "    path = f'1218_full_value_action_generation_gpt_4o_missing_value_{country}.csv'\n",
    "    data = pd.read_csv(path)  \n",
    "    all_data.append(data)\n",
    "    "
   ]
  },
  {
   "cell_type": "code",
   "execution_count": 4,
   "metadata": {},
   "outputs": [],
   "source": [
    "new_df = pd.concat(all_data)\n",
    "new_df.to_csv(\"value_action_gap_full_data_gpt_4o_generation.csv\")"
   ]
  },
  {
   "cell_type": "code",
   "execution_count": 5,
   "metadata": {},
   "outputs": [
    {
     "data": {
      "text/plain": [
       "14784"
      ]
     },
     "execution_count": 5,
     "metadata": {},
     "output_type": "execute_result"
    }
   ],
   "source": [
    "len(new_df)"
   ]
  },
  {
   "cell_type": "code",
   "execution_count": null,
   "metadata": {},
   "outputs": [],
   "source": []
  }
 ],
 "metadata": {
  "kernelspec": {
   "display_name": "base",
   "language": "python",
   "name": "python3"
  },
  "language_info": {
   "codemirror_mode": {
    "name": "ipython",
    "version": 3
   },
   "file_extension": ".py",
   "mimetype": "text/x-python",
   "name": "python",
   "nbconvert_exporter": "python",
   "pygments_lexer": "ipython3",
   "version": "3.11.3"
  }
 },
 "nbformat": 4,
 "nbformat_minor": 2
}
