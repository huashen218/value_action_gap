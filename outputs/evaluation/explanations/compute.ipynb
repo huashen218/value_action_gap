{
 "cells": [
  {
   "cell_type": "code",
   "execution_count": 31,
   "metadata": {},
   "outputs": [],
   "source": []
  },
  {
   "cell_type": "code",
   "execution_count": 38,
   "metadata": {},
   "outputs": [],
   "source": [
    "\n",
    "import numpy as np\n",
    "import pandas as pd\n",
    "from sklearn.metrics import accuracy_score, precision_score, recall_score, f1_score\n",
    "from sklearn.metrics import confusion_matrix\n",
    "\n",
    "def compute_performance(df, setting):\n",
    "    y_label = []\n",
    "    y_pred = []\n",
    "    for index, row in df.iterrows():\n",
    "        if row['label'] == True:\n",
    "            y_label.append(1)\n",
    "        if row['label'] == False:\n",
    "            y_label.append(0)\n",
    "        result = row['result'].split(' ')[1]\n",
    "        if result == 'True':\n",
    "            y_pred.append(1)\n",
    "        if result == 'False':\n",
    "            y_pred.append(0)\n",
    "\n",
    "    cm = confusion_matrix(np.array(y_label), np.array(y_pred))\n",
    "    accuracy = accuracy_score(np.array(y_label), np.array(y_pred))\n",
    "    precision = precision_score(np.array(y_label), np.array(y_pred))\n",
    "    recall = recall_score(np.array(y_label), np.array(y_pred))\n",
    "    f1 = f1_score(np.array(y_label), np.array(y_pred))\n",
    "\n",
    "    print(f\"Setting:{setting}, f1={f1}, accuracy= {accuracy}, precision={precision}, recall={recall}, cm = {cm}\")\n",
    "\n"
   ]
  },
  {
   "cell_type": "code",
   "execution_count": 39,
   "metadata": {},
   "outputs": [
    {
     "name": "stdout",
     "output_type": "stream",
     "text": [
      "Setting:Default, f1=0.7782101167315175, accuracy= 0.715, precision=0.6369426751592356, recall=1.0, cm = [[ 43  57]\n",
      " [  0 100]]\n",
      "Setting:Attribution, f1=0.796812749003984, accuracy= 0.745, precision=0.6622516556291391, recall=1.0, cm = [[ 49  51]\n",
      " [  0 100]]\n",
      "Setting:Explanation, f1=0.823045267489712, accuracy= 0.785, precision=0.6993006993006993, recall=1.0, cm = [[ 57  43]\n",
      " [  0 100]]\n",
      "Setting:Attribution+Explanation, f1=0.819672131147541, accuracy= 0.78, precision=0.6944444444444444, recall=1.0, cm = [[ 56  44]\n",
      " [  0 100]]\n"
     ]
    }
   ],
   "source": [
    "\n",
    "df_default = pd.read_csv('llama3_explanation_outputs_default.csv')\n",
    "df_attr = pd.read_csv('llama3_explanation_outputs_attribution.csv')\n",
    "df_x = pd.read_csv('llama3_explanation_outputs_explanation.csv')\n",
    "df_attr_x = pd.read_csv('llama3_explanation_outputs_attribution_explanation.csv')\n",
    "\n",
    "compute_performance(df_default, \"Default\")\n",
    "compute_performance(df_attr, \"Attribution\")\n",
    "compute_performance(df_x, \"Explanation\")\n",
    "compute_performance(df_attr_x, \"Attribution+Explanation\")"
   ]
  },
  {
   "cell_type": "code",
   "execution_count": null,
   "metadata": {},
   "outputs": [],
   "source": []
  },
  {
   "cell_type": "code",
   "execution_count": 40,
   "metadata": {},
   "outputs": [
    {
     "name": "stdout",
     "output_type": "stream",
     "text": [
      "Setting:Default, f1=0.7951807228915663, accuracy= 0.745, precision=0.6644295302013423, recall=0.99, cm = [[50 50]\n",
      " [ 1 99]]\n",
      "Setting:Attribution, f1=0.823045267489712, accuracy= 0.785, precision=0.6993006993006993, recall=1.0, cm = [[ 57  43]\n",
      " [  0 100]]\n",
      "Setting:Explanation, f1=0.8298755186721992, accuracy= 0.795, precision=0.7092198581560284, recall=1.0, cm = [[ 59  41]\n",
      " [  0 100]]\n",
      "Setting:Attribution+Explanation, f1=0.8298755186721992, accuracy= 0.795, precision=0.7092198581560284, recall=1.0, cm = [[ 59  41]\n",
      " [  0 100]]\n"
     ]
    }
   ],
   "source": [
    "df_default = pd.read_csv('chatgpt_explanation_outputs_default.csv')\n",
    "df_attr = pd.read_csv('chatgpt_explanation_outputs_attribution.csv')\n",
    "df_x = pd.read_csv('chatgpt_explanation_outputs_explanation.csv')\n",
    "df_attr_x = pd.read_csv('chatgpt_explanation_outputs_attribution_explanation.csv')\n",
    "\n",
    "compute_performance(df_default, \"Default\")\n",
    "compute_performance(df_attr, \"Attribution\")\n",
    "compute_performance(df_x, \"Explanation\")\n",
    "compute_performance(df_attr_x, \"Attribution+Explanation\")"
   ]
  },
  {
   "cell_type": "code",
   "execution_count": null,
   "metadata": {},
   "outputs": [],
   "source": []
  }
 ],
 "metadata": {
  "kernelspec": {
   "display_name": "base",
   "language": "python",
   "name": "python3"
  },
  "language_info": {
   "codemirror_mode": {
    "name": "ipython",
    "version": 3
   },
   "file_extension": ".py",
   "mimetype": "text/x-python",
   "name": "python",
   "nbconvert_exporter": "python",
   "pygments_lexer": "ipython3",
   "version": "3.11.3"
  }
 },
 "nbformat": 4,
 "nbformat_minor": 2
}
